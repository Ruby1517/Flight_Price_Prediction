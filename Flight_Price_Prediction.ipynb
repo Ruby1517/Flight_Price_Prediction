{
 "cells": [
  {
   "cell_type": "markdown",
   "id": "b29f3e59-ae77-4b9c-abd5-190399a91143",
   "metadata": {},
   "source": [
    "## Flight Price Prediction\n",
    "The pice of an Airline Ticket is affected by a number of factors, such as flight duration, days left for departure, arrival time and departure time etc. Airline organizations may diminish the cost at the time they need to build the market and at the time when the tickets are less accessible. They may maximize the costs. The price may rely upon different factors. Each factor has its own proprietary rules and algorithms to set the price accordingly. Recent advances in Artificial Intelligence(AI) and Machine Learning(ML) makes it possible to infer such rules and models the price variation."
   ]
  },
  {
   "cell_type": "code",
   "execution_count": 1,
   "id": "add99b03-3473-43af-a3b0-4fefdb9c81e6",
   "metadata": {},
   "outputs": [],
   "source": [
    "# Importing all Requires\n",
    "import pandas as pd\n",
    "import numpy as np\n",
    "import matplotlib.pyplot as plt\n",
    "import seaborn as sns\n",
    "import warnings\n",
    "# warnings.filterwarnings('ignore')\n",
    "import os"
   ]
  },
  {
   "cell_type": "code",
   "execution_count": 2,
   "id": "77fe0529-60b9-4514-8269-4f8a5da743ec",
   "metadata": {},
   "outputs": [],
   "source": [
    "pd.set_option('display.max_columns', None)  # For more go here: https://pandas.pydata.org/docs/user_guide/options.html\n",
    "# pd.set_options.display.max_rows"
   ]
  },
  {
   "cell_type": "code",
   "execution_count": 3,
   "id": "b7eb0e64-c962-43f3-aba6-8caeaa6551f5",
   "metadata": {},
   "outputs": [],
   "source": [
    "import os\n",
    "# for dirname, _, filename in os.getcwd('Flight_data/'):\n",
    "#     for filename in filenames:\n",
    "#         print(os.path.join(dirname, filename))"
   ]
  },
  {
   "cell_type": "code",
   "execution_count": 4,
   "id": "1f40a5e5-b8f5-4d00-b913-b0fadec4e27f",
   "metadata": {},
   "outputs": [
    {
     "data": {
      "text/html": [
       "<div>\n",
       "<style scoped>\n",
       "    .dataframe tbody tr th:only-of-type {\n",
       "        vertical-align: middle;\n",
       "    }\n",
       "\n",
       "    .dataframe tbody tr th {\n",
       "        vertical-align: top;\n",
       "    }\n",
       "\n",
       "    .dataframe thead th {\n",
       "        text-align: right;\n",
       "    }\n",
       "</style>\n",
       "<table border=\"1\" class=\"dataframe\">\n",
       "  <thead>\n",
       "    <tr style=\"text-align: right;\">\n",
       "      <th></th>\n",
       "      <th>Unnamed: 0</th>\n",
       "      <th>airline</th>\n",
       "      <th>flight</th>\n",
       "      <th>source_city</th>\n",
       "      <th>departure_time</th>\n",
       "      <th>stops</th>\n",
       "      <th>arrival_time</th>\n",
       "      <th>destination_city</th>\n",
       "      <th>class</th>\n",
       "      <th>duration</th>\n",
       "      <th>days_left</th>\n",
       "      <th>price</th>\n",
       "    </tr>\n",
       "  </thead>\n",
       "  <tbody>\n",
       "    <tr>\n",
       "      <th>0</th>\n",
       "      <td>0</td>\n",
       "      <td>SpiceJet</td>\n",
       "      <td>SG-8709</td>\n",
       "      <td>Delhi</td>\n",
       "      <td>Evening</td>\n",
       "      <td>zero</td>\n",
       "      <td>Night</td>\n",
       "      <td>Mumbai</td>\n",
       "      <td>Economy</td>\n",
       "      <td>2.17</td>\n",
       "      <td>1</td>\n",
       "      <td>5953</td>\n",
       "    </tr>\n",
       "    <tr>\n",
       "      <th>1</th>\n",
       "      <td>1</td>\n",
       "      <td>SpiceJet</td>\n",
       "      <td>SG-8157</td>\n",
       "      <td>Delhi</td>\n",
       "      <td>Early_Morning</td>\n",
       "      <td>zero</td>\n",
       "      <td>Morning</td>\n",
       "      <td>Mumbai</td>\n",
       "      <td>Economy</td>\n",
       "      <td>2.33</td>\n",
       "      <td>1</td>\n",
       "      <td>5953</td>\n",
       "    </tr>\n",
       "    <tr>\n",
       "      <th>2</th>\n",
       "      <td>2</td>\n",
       "      <td>AirAsia</td>\n",
       "      <td>I5-764</td>\n",
       "      <td>Delhi</td>\n",
       "      <td>Early_Morning</td>\n",
       "      <td>zero</td>\n",
       "      <td>Early_Morning</td>\n",
       "      <td>Mumbai</td>\n",
       "      <td>Economy</td>\n",
       "      <td>2.17</td>\n",
       "      <td>1</td>\n",
       "      <td>5956</td>\n",
       "    </tr>\n",
       "    <tr>\n",
       "      <th>3</th>\n",
       "      <td>3</td>\n",
       "      <td>Vistara</td>\n",
       "      <td>UK-995</td>\n",
       "      <td>Delhi</td>\n",
       "      <td>Morning</td>\n",
       "      <td>zero</td>\n",
       "      <td>Afternoon</td>\n",
       "      <td>Mumbai</td>\n",
       "      <td>Economy</td>\n",
       "      <td>2.25</td>\n",
       "      <td>1</td>\n",
       "      <td>5955</td>\n",
       "    </tr>\n",
       "    <tr>\n",
       "      <th>4</th>\n",
       "      <td>4</td>\n",
       "      <td>Vistara</td>\n",
       "      <td>UK-963</td>\n",
       "      <td>Delhi</td>\n",
       "      <td>Morning</td>\n",
       "      <td>zero</td>\n",
       "      <td>Morning</td>\n",
       "      <td>Mumbai</td>\n",
       "      <td>Economy</td>\n",
       "      <td>2.33</td>\n",
       "      <td>1</td>\n",
       "      <td>5955</td>\n",
       "    </tr>\n",
       "  </tbody>\n",
       "</table>\n",
       "</div>"
      ],
      "text/plain": [
       "   Unnamed: 0   airline   flight source_city departure_time stops  \\\n",
       "0           0  SpiceJet  SG-8709       Delhi        Evening  zero   \n",
       "1           1  SpiceJet  SG-8157       Delhi  Early_Morning  zero   \n",
       "2           2   AirAsia   I5-764       Delhi  Early_Morning  zero   \n",
       "3           3   Vistara   UK-995       Delhi        Morning  zero   \n",
       "4           4   Vistara   UK-963       Delhi        Morning  zero   \n",
       "\n",
       "    arrival_time destination_city    class  duration  days_left  price  \n",
       "0          Night           Mumbai  Economy      2.17          1   5953  \n",
       "1        Morning           Mumbai  Economy      2.33          1   5953  \n",
       "2  Early_Morning           Mumbai  Economy      2.17          1   5956  \n",
       "3      Afternoon           Mumbai  Economy      2.25          1   5955  \n",
       "4        Morning           Mumbai  Economy      2.33          1   5955  "
      ]
     },
     "execution_count": 4,
     "metadata": {},
     "output_type": "execute_result"
    }
   ],
   "source": [
    "# read the Dataset\n",
    "flight_df = pd.read_csv('Flight_data/Clean_Dataset.csv')\n",
    "flight_df.head()"
   ]
  },
  {
   "cell_type": "code",
   "execution_count": 5,
   "id": "807bbc25-cd0b-4630-9500-fadc300ac4cb",
   "metadata": {},
   "outputs": [],
   "source": [
    "# Dropping the useless column 'Unnamed: 0'\n",
    "flight_df = flight_df.drop('Unnamed: 0', axis=1)"
   ]
  },
  {
   "cell_type": "code",
   "execution_count": 6,
   "id": "5e9969bd-253b-40a0-af74-1ccd783ee88e",
   "metadata": {},
   "outputs": [
    {
     "data": {
      "text/html": [
       "<div>\n",
       "<style scoped>\n",
       "    .dataframe tbody tr th:only-of-type {\n",
       "        vertical-align: middle;\n",
       "    }\n",
       "\n",
       "    .dataframe tbody tr th {\n",
       "        vertical-align: top;\n",
       "    }\n",
       "\n",
       "    .dataframe thead th {\n",
       "        text-align: right;\n",
       "    }\n",
       "</style>\n",
       "<table border=\"1\" class=\"dataframe\">\n",
       "  <thead>\n",
       "    <tr style=\"text-align: right;\">\n",
       "      <th></th>\n",
       "      <th>airline</th>\n",
       "      <th>flight</th>\n",
       "      <th>source_city</th>\n",
       "      <th>departure_time</th>\n",
       "      <th>stops</th>\n",
       "      <th>arrival_time</th>\n",
       "      <th>destination_city</th>\n",
       "      <th>class</th>\n",
       "      <th>duration</th>\n",
       "      <th>days_left</th>\n",
       "      <th>price</th>\n",
       "    </tr>\n",
       "  </thead>\n",
       "  <tbody>\n",
       "    <tr>\n",
       "      <th>0</th>\n",
       "      <td>SpiceJet</td>\n",
       "      <td>SG-8709</td>\n",
       "      <td>Delhi</td>\n",
       "      <td>Evening</td>\n",
       "      <td>zero</td>\n",
       "      <td>Night</td>\n",
       "      <td>Mumbai</td>\n",
       "      <td>Economy</td>\n",
       "      <td>2.17</td>\n",
       "      <td>1</td>\n",
       "      <td>5953</td>\n",
       "    </tr>\n",
       "    <tr>\n",
       "      <th>1</th>\n",
       "      <td>SpiceJet</td>\n",
       "      <td>SG-8157</td>\n",
       "      <td>Delhi</td>\n",
       "      <td>Early_Morning</td>\n",
       "      <td>zero</td>\n",
       "      <td>Morning</td>\n",
       "      <td>Mumbai</td>\n",
       "      <td>Economy</td>\n",
       "      <td>2.33</td>\n",
       "      <td>1</td>\n",
       "      <td>5953</td>\n",
       "    </tr>\n",
       "    <tr>\n",
       "      <th>2</th>\n",
       "      <td>AirAsia</td>\n",
       "      <td>I5-764</td>\n",
       "      <td>Delhi</td>\n",
       "      <td>Early_Morning</td>\n",
       "      <td>zero</td>\n",
       "      <td>Early_Morning</td>\n",
       "      <td>Mumbai</td>\n",
       "      <td>Economy</td>\n",
       "      <td>2.17</td>\n",
       "      <td>1</td>\n",
       "      <td>5956</td>\n",
       "    </tr>\n",
       "    <tr>\n",
       "      <th>3</th>\n",
       "      <td>Vistara</td>\n",
       "      <td>UK-995</td>\n",
       "      <td>Delhi</td>\n",
       "      <td>Morning</td>\n",
       "      <td>zero</td>\n",
       "      <td>Afternoon</td>\n",
       "      <td>Mumbai</td>\n",
       "      <td>Economy</td>\n",
       "      <td>2.25</td>\n",
       "      <td>1</td>\n",
       "      <td>5955</td>\n",
       "    </tr>\n",
       "    <tr>\n",
       "      <th>4</th>\n",
       "      <td>Vistara</td>\n",
       "      <td>UK-963</td>\n",
       "      <td>Delhi</td>\n",
       "      <td>Morning</td>\n",
       "      <td>zero</td>\n",
       "      <td>Morning</td>\n",
       "      <td>Mumbai</td>\n",
       "      <td>Economy</td>\n",
       "      <td>2.33</td>\n",
       "      <td>1</td>\n",
       "      <td>5955</td>\n",
       "    </tr>\n",
       "  </tbody>\n",
       "</table>\n",
       "</div>"
      ],
      "text/plain": [
       "    airline   flight source_city departure_time stops   arrival_time  \\\n",
       "0  SpiceJet  SG-8709       Delhi        Evening  zero          Night   \n",
       "1  SpiceJet  SG-8157       Delhi  Early_Morning  zero        Morning   \n",
       "2   AirAsia   I5-764       Delhi  Early_Morning  zero  Early_Morning   \n",
       "3   Vistara   UK-995       Delhi        Morning  zero      Afternoon   \n",
       "4   Vistara   UK-963       Delhi        Morning  zero        Morning   \n",
       "\n",
       "  destination_city    class  duration  days_left  price  \n",
       "0           Mumbai  Economy      2.17          1   5953  \n",
       "1           Mumbai  Economy      2.33          1   5953  \n",
       "2           Mumbai  Economy      2.17          1   5956  \n",
       "3           Mumbai  Economy      2.25          1   5955  \n",
       "4           Mumbai  Economy      2.33          1   5955  "
      ]
     },
     "execution_count": 6,
     "metadata": {},
     "output_type": "execute_result"
    }
   ],
   "source": [
    "flight_df.head()"
   ]
  },
  {
   "cell_type": "code",
   "execution_count": 7,
   "id": "d1e68f0e-2614-4f8d-b9aa-6f6be701fdc9",
   "metadata": {},
   "outputs": [
    {
     "name": "stdout",
     "output_type": "stream",
     "text": [
      "<class 'pandas.core.frame.DataFrame'>\n",
      "RangeIndex: 300153 entries, 0 to 300152\n",
      "Data columns (total 11 columns):\n",
      " #   Column            Non-Null Count   Dtype  \n",
      "---  ------            --------------   -----  \n",
      " 0   airline           300153 non-null  object \n",
      " 1   flight            300153 non-null  object \n",
      " 2   source_city       300153 non-null  object \n",
      " 3   departure_time    300153 non-null  object \n",
      " 4   stops             300153 non-null  object \n",
      " 5   arrival_time      300153 non-null  object \n",
      " 6   destination_city  300153 non-null  object \n",
      " 7   class             300153 non-null  object \n",
      " 8   duration          300153 non-null  float64\n",
      " 9   days_left         300153 non-null  int64  \n",
      " 10  price             300153 non-null  int64  \n",
      "dtypes: float64(1), int64(2), object(8)\n",
      "memory usage: 25.2+ MB\n"
     ]
    }
   ],
   "source": [
    "# A Quick information about the data\n",
    "flight_df.info()"
   ]
  },
  {
   "cell_type": "code",
   "execution_count": 8,
   "id": "28069138-8e7c-4296-ae0a-eb2704d44d01",
   "metadata": {},
   "outputs": [
    {
     "data": {
      "text/html": [
       "<div>\n",
       "<style scoped>\n",
       "    .dataframe tbody tr th:only-of-type {\n",
       "        vertical-align: middle;\n",
       "    }\n",
       "\n",
       "    .dataframe tbody tr th {\n",
       "        vertical-align: top;\n",
       "    }\n",
       "\n",
       "    .dataframe thead th {\n",
       "        text-align: right;\n",
       "    }\n",
       "</style>\n",
       "<table border=\"1\" class=\"dataframe\">\n",
       "  <thead>\n",
       "    <tr style=\"text-align: right;\">\n",
       "      <th></th>\n",
       "      <th>duration</th>\n",
       "      <th>days_left</th>\n",
       "      <th>price</th>\n",
       "    </tr>\n",
       "  </thead>\n",
       "  <tbody>\n",
       "    <tr>\n",
       "      <th>count</th>\n",
       "      <td>300153.000000</td>\n",
       "      <td>300153.000000</td>\n",
       "      <td>300153.000000</td>\n",
       "    </tr>\n",
       "    <tr>\n",
       "      <th>mean</th>\n",
       "      <td>12.221021</td>\n",
       "      <td>26.004751</td>\n",
       "      <td>20889.660523</td>\n",
       "    </tr>\n",
       "    <tr>\n",
       "      <th>std</th>\n",
       "      <td>7.191997</td>\n",
       "      <td>13.561004</td>\n",
       "      <td>22697.767366</td>\n",
       "    </tr>\n",
       "    <tr>\n",
       "      <th>min</th>\n",
       "      <td>0.830000</td>\n",
       "      <td>1.000000</td>\n",
       "      <td>1105.000000</td>\n",
       "    </tr>\n",
       "    <tr>\n",
       "      <th>25%</th>\n",
       "      <td>6.830000</td>\n",
       "      <td>15.000000</td>\n",
       "      <td>4783.000000</td>\n",
       "    </tr>\n",
       "    <tr>\n",
       "      <th>50%</th>\n",
       "      <td>11.250000</td>\n",
       "      <td>26.000000</td>\n",
       "      <td>7425.000000</td>\n",
       "    </tr>\n",
       "    <tr>\n",
       "      <th>75%</th>\n",
       "      <td>16.170000</td>\n",
       "      <td>38.000000</td>\n",
       "      <td>42521.000000</td>\n",
       "    </tr>\n",
       "    <tr>\n",
       "      <th>max</th>\n",
       "      <td>49.830000</td>\n",
       "      <td>49.000000</td>\n",
       "      <td>123071.000000</td>\n",
       "    </tr>\n",
       "  </tbody>\n",
       "</table>\n",
       "</div>"
      ],
      "text/plain": [
       "            duration      days_left          price\n",
       "count  300153.000000  300153.000000  300153.000000\n",
       "mean       12.221021      26.004751   20889.660523\n",
       "std         7.191997      13.561004   22697.767366\n",
       "min         0.830000       1.000000    1105.000000\n",
       "25%         6.830000      15.000000    4783.000000\n",
       "50%        11.250000      26.000000    7425.000000\n",
       "75%        16.170000      38.000000   42521.000000\n",
       "max        49.830000      49.000000  123071.000000"
      ]
     },
     "execution_count": 8,
     "metadata": {},
     "output_type": "execute_result"
    }
   ],
   "source": [
    "# statistical Description of Data just we have three numerical columns\n",
    "flight_df.describe()"
   ]
  },
  {
   "cell_type": "code",
   "execution_count": 9,
   "id": "e3b89c90-2d86-479e-a7d4-85576230b1bb",
   "metadata": {},
   "outputs": [
    {
     "data": {
      "text/html": [
       "<div>\n",
       "<style scoped>\n",
       "    .dataframe tbody tr th:only-of-type {\n",
       "        vertical-align: middle;\n",
       "    }\n",
       "\n",
       "    .dataframe tbody tr th {\n",
       "        vertical-align: top;\n",
       "    }\n",
       "\n",
       "    .dataframe thead th {\n",
       "        text-align: right;\n",
       "    }\n",
       "</style>\n",
       "<table border=\"1\" class=\"dataframe\">\n",
       "  <thead>\n",
       "    <tr style=\"text-align: right;\">\n",
       "      <th></th>\n",
       "      <th>duration</th>\n",
       "      <th>days_left</th>\n",
       "      <th>price</th>\n",
       "    </tr>\n",
       "  </thead>\n",
       "  <tbody>\n",
       "    <tr>\n",
       "      <th>duration</th>\n",
       "      <td>1.0000</td>\n",
       "      <td>1.000000</td>\n",
       "      <td>0.923300</td>\n",
       "    </tr>\n",
       "    <tr>\n",
       "      <th>days_left</th>\n",
       "      <td>1.0000</td>\n",
       "      <td>1.000000</td>\n",
       "      <td>0.923292</td>\n",
       "    </tr>\n",
       "    <tr>\n",
       "      <th>price</th>\n",
       "      <td>0.9233</td>\n",
       "      <td>0.923292</td>\n",
       "      <td>1.000000</td>\n",
       "    </tr>\n",
       "  </tbody>\n",
       "</table>\n",
       "</div>"
      ],
      "text/plain": [
       "           duration  days_left     price\n",
       "duration     1.0000   1.000000  0.923300\n",
       "days_left    1.0000   1.000000  0.923292\n",
       "price        0.9233   0.923292  1.000000"
      ]
     },
     "execution_count": 9,
     "metadata": {},
     "output_type": "execute_result"
    }
   ],
   "source": [
    "#The corr() method finds the correlation of each column in a DataFrame.\n",
    "flight_df.describe().corr().T"
   ]
  },
  {
   "cell_type": "code",
   "execution_count": 10,
   "id": "a1d17678-9f34-479d-b167-cbb7c1410559",
   "metadata": {},
   "outputs": [
    {
     "data": {
      "text/plain": [
       "(300153, 11)"
      ]
     },
     "execution_count": 10,
     "metadata": {},
     "output_type": "execute_result"
    }
   ],
   "source": [
    "# Size of the data\n",
    "flight_df.shape"
   ]
  },
  {
   "cell_type": "code",
   "execution_count": 11,
   "id": "9d26591d-54d3-44b4-9541-440bd3df252e",
   "metadata": {},
   "outputs": [
    {
     "data": {
      "text/plain": [
       "airline\n",
       "Indigo       704\n",
       "Air_India    218\n",
       "GO_FIRST     205\n",
       "SpiceJet     186\n",
       "Vistara      133\n",
       "AirAsia      115\n",
       "Name: count, dtype: int64"
      ]
     },
     "execution_count": 11,
     "metadata": {},
     "output_type": "execute_result"
    }
   ],
   "source": [
    "df1 = flight_df.groupby(['flight', 'airline'], as_index=False).count()\n",
    "df1.airline.value_counts()"
   ]
  },
  {
   "cell_type": "markdown",
   "id": "c03d85be-d457-4efe-8534-bf3813d3d433",
   "metadata": {},
   "source": [
    "### Indigo becaming as a most popular Airline"
   ]
  },
  {
   "cell_type": "code",
   "execution_count": 12,
   "id": "854d4626-8437-493a-8586-b129e21c6283",
   "metadata": {},
   "outputs": [
    {
     "data": {
      "image/png": "[encoded data removed]",
      "text/plain": [
       "<Figure size 800x500 with 1 Axes>"
      ]
     },
     "metadata": {},
     "output_type": "display_data"
    }
   ],
   "source": [
    "plt.figure(figsize=(8,5))\n",
    "sns.countplot(df1, x=\"airline\")\n",
    "plt.title('Flight Count of Different Airlines', fontsize=15)\n",
    "plt.xlabel('Airline', fontsize=15)\n",
    "plt.ylabel('Count', fontsize=15)\n",
    "plt.show()"
   ]
  },
  {
   "cell_type": "code",
   "execution_count": 13,
   "id": "573079ba-e3db-4e72-9b1b-c3096da7da2d",
   "metadata": {},
   "outputs": [
    {
     "data": {
      "text/plain": [
       "class\n",
       "Economy     1560\n",
       "Business     295\n",
       "Name: count, dtype: int64"
      ]
     },
     "execution_count": 13,
     "metadata": {},
     "output_type": "execute_result"
    }
   ],
   "source": [
    "df2 = flight_df.groupby(['flight','airline', 'class'], as_index=False).count()\n",
    "df2['class'].value_counts()"
   ]
  },
  {
   "cell_type": "markdown",
   "id": "3b92fb91-74dc-41c6-9823-9332e13016a0",
   "metadata": {},
   "source": [
    "### Most of the airline has Economic Class as commom"
   ]
  },
  {
   "cell_type": "code",
   "execution_count": 14,
   "id": "b28eb674-746a-40f5-af90-22524c5b8e8c",
   "metadata": {},
   "outputs": [
    {
     "data": {
      "image/png": "[encoded data removed]",
      "text/plain": [
       "<Figure size 800x600 with 1 Axes>"
      ]
     },
     "metadata": {},
     "output_type": "display_data"
    }
   ],
   "source": [
    "plt.figure(figsize=(8, 6))\n",
    "df2['class'].value_counts().plot(kind='pie', \n",
    "                                 textprops={'color':'black'}, \n",
    "                                 autopct='%.2f', cmap='cool')\n",
    "plt.title('Class of Different Airline', fontsize=15)\n",
    "plt.legend(['Economy', 'Business'])\n",
    "plt.show()\n"
   ]
  },
  {
   "cell_type": "markdown",
   "id": "2bfc27d9-1404-49af-af06-90d70be5893d",
   "metadata": {},
   "source": [
    "## Does price vary with Airlines?\n",
    "* As we can see Vistara has maximum price range\n",
    "* Vistara and Air_india Airlines have maximum price when compared to others\n",
    "* SpiceJet, AirAsia, GO_first and indigo has some what equal prices"
   ]
  },
  {
   "cell_type": "code",
   "execution_count": 15,
   "id": "74aec9df-41e1-4388-8145-a6670c5a14a3",
   "metadata": {},
   "outputs": [
    {
     "data": {
      "image/png": "[encoded data removed]",
      "text/plain": [
       "<Figure size 1500x500 with 1 Axes>"
      ]
     },
     "metadata": {},
     "output_type": "display_data"
    }
   ],
   "source": [
    "plt.figure(figsize=(15, 5))\n",
    "sns.boxplot(x=flight_df['airline'], y=flight_df['price'], palette='hls')\n",
    "plt.xlabel('Airline', fontsize=15)\n",
    "plt.ylabel('Price', fontsize=15)\n",
    "plt.show()"
   ]
  },
  {
   "cell_type": "markdown",
   "id": "bc3b83bf-5273-4824-8a8e-4c78a3b77a71",
   "metadata": {},
   "source": [
    "How Does the Ticket Price vary between Economy and Business Class?\n",
    "\n",
    "* Ticket Price is Maximum for Bussiness Class When compared to Economy Class"
   ]
  },
  {
   "cell_type": "code",
   "execution_count": 16,
   "id": "657f8b5c-7f07-4299-b20e-cacc5fc4dd3d",
   "metadata": {},
   "outputs": [
    {
     "data": {
      "image/png": "[encoded data removed]",
      "text/plain": [
       "<Figure size 1000x500 with 1 Axes>"
      ]
     },
     "metadata": {},
     "output_type": "display_data"
    }
   ],
   "source": [
    "plt.figure(figsize=(10, 5))\n",
    "sns.boxplot(x='class', y='price', data=flight_df, palette='hls')\n",
    "plt.title('Class vs ticket Price', fontsize=15)\n",
    "plt.xlabel('Class', fontsize=15)\n",
    "plt.ylabel('Price', fontsize=15)\n",
    "plt.show()"
   ]
  },
  {
   "cell_type": "markdown",
   "id": "94fdc119-c25f-4180-9877-8cde247a54e2",
   "metadata": {},
   "source": [
    "### How the Ticket Price change based on the Departure Time and Arrival Time?\n",
    "1. Departure Time Vs Ticket Price\n",
    "\n",
    "    * Ticket Price is More for the Flights when the Departure Time is at Night\n",
    "    * Ticket Price is almost equal for flights Having Departure time at Early_morning , Morning and Evening\n",
    "    * Ticket Price is Low for the Flights Having Departure Time at Late_night\n",
    "     \n",
    "2. Arrival Time Vs Ticket Price\n",
    "   \n",
    "    * Ticket Price is More for the Flights when the Arrival Time is at Evening\n",
    "    * Ticket Price is almost equal for flights Having Arrival time is at Morning and Night\n",
    "    * Ticket Price is Low for the Flights Having Arrival Time at Late_night as same as Departure Time"
   ]
  },
  {
   "cell_type": "code",
   "execution_count": 17,
   "id": "047011be-b5e5-4d6a-8eeb-325f5d0772dc",
   "metadata": {},
   "outputs": [
    {
     "data": {
      "image/png": "[encoded data removed]",
      "text/plain": [
       "<Figure size 2400x1000 with 2 Axes>"
      ]
     },
     "metadata": {},
     "output_type": "display_data"
    }
   ],
   "source": [
    "plt.figure(figsize=(24, 10))\n",
    "plt.subplot(1, 2, 1)\n",
    "sns.boxplot(x='departure_time', y='price', data=flight_df)\n",
    "plt.title('Departure time VS ticket price', fontsize=20)\n",
    "plt.xlabel('Departure Time', fontsize=15)\n",
    "plt.ylabel('Price', fontsize=15)\n",
    "plt.subplot(1, 2, 2)\n",
    "sns.boxplot(x='arrival_time', y='price', data=flight_df, palette='hls')\n",
    "plt.title('Arrival time Vs Ticket Price', fontsize=20)\n",
    "plt.xlabel('Arrival Time', fontsize=15)\n",
    "plt.ylabel('Price', fontsize=15)\n",
    "plt.show()\n",
    "\n"
   ]
  },
  {
   "cell_type": "markdown",
   "id": "69e798b8-5a77-447f-a67d-a02c017ae37d",
   "metadata": {},
   "source": [
    "Average Price of different Airlines from Source city to Destination city"
   ]
  },
  {
   "cell_type": "code",
   "execution_count": 18,
   "id": "c91204d2-93f2-4f30-83fb-d268bcdcb2e1",
   "metadata": {},
   "outputs": [
    {
     "data": {
      "text/html": [
       "<div>\n",
       "<style scoped>\n",
       "    .dataframe tbody tr th:only-of-type {\n",
       "        vertical-align: middle;\n",
       "    }\n",
       "\n",
       "    .dataframe tbody tr th {\n",
       "        vertical-align: top;\n",
       "    }\n",
       "\n",
       "    .dataframe thead th {\n",
       "        text-align: right;\n",
       "    }\n",
       "</style>\n",
       "<table border=\"1\" class=\"dataframe\">\n",
       "  <thead>\n",
       "    <tr style=\"text-align: right;\">\n",
       "      <th></th>\n",
       "      <th>airline</th>\n",
       "      <th>source_city</th>\n",
       "      <th>destination_city</th>\n",
       "      <th>price</th>\n",
       "    </tr>\n",
       "  </thead>\n",
       "  <tbody>\n",
       "    <tr>\n",
       "      <th>0</th>\n",
       "      <td>AirAsia</td>\n",
       "      <td>Bangalore</td>\n",
       "      <td>Chennai</td>\n",
       "      <td>2073.043478</td>\n",
       "    </tr>\n",
       "    <tr>\n",
       "      <th>1</th>\n",
       "      <td>AirAsia</td>\n",
       "      <td>Bangalore</td>\n",
       "      <td>Delhi</td>\n",
       "      <td>4807.092426</td>\n",
       "    </tr>\n",
       "    <tr>\n",
       "      <th>2</th>\n",
       "      <td>AirAsia</td>\n",
       "      <td>Bangalore</td>\n",
       "      <td>Hyderabad</td>\n",
       "      <td>2931.494792</td>\n",
       "    </tr>\n",
       "    <tr>\n",
       "      <th>3</th>\n",
       "      <td>AirAsia</td>\n",
       "      <td>Bangalore</td>\n",
       "      <td>Kolkata</td>\n",
       "      <td>4443.468160</td>\n",
       "    </tr>\n",
       "    <tr>\n",
       "      <th>4</th>\n",
       "      <td>AirAsia</td>\n",
       "      <td>Bangalore</td>\n",
       "      <td>Mumbai</td>\n",
       "      <td>3342.385350</td>\n",
       "    </tr>\n",
       "    <tr>\n",
       "      <th>5</th>\n",
       "      <td>AirAsia</td>\n",
       "      <td>Chennai</td>\n",
       "      <td>Bangalore</td>\n",
       "      <td>1914.760870</td>\n",
       "    </tr>\n",
       "    <tr>\n",
       "      <th>6</th>\n",
       "      <td>AirAsia</td>\n",
       "      <td>Chennai</td>\n",
       "      <td>Delhi</td>\n",
       "      <td>3697.314003</td>\n",
       "    </tr>\n",
       "    <tr>\n",
       "      <th>7</th>\n",
       "      <td>AirAsia</td>\n",
       "      <td>Chennai</td>\n",
       "      <td>Hyderabad</td>\n",
       "      <td>2053.182540</td>\n",
       "    </tr>\n",
       "    <tr>\n",
       "      <th>8</th>\n",
       "      <td>AirAsia</td>\n",
       "      <td>Chennai</td>\n",
       "      <td>Kolkata</td>\n",
       "      <td>3682.338762</td>\n",
       "    </tr>\n",
       "    <tr>\n",
       "      <th>9</th>\n",
       "      <td>AirAsia</td>\n",
       "      <td>Chennai</td>\n",
       "      <td>Mumbai</td>\n",
       "      <td>2691.100000</td>\n",
       "    </tr>\n",
       "  </tbody>\n",
       "</table>\n",
       "</div>"
      ],
      "text/plain": [
       "   airline source_city destination_city        price\n",
       "0  AirAsia   Bangalore          Chennai  2073.043478\n",
       "1  AirAsia   Bangalore            Delhi  4807.092426\n",
       "2  AirAsia   Bangalore        Hyderabad  2931.494792\n",
       "3  AirAsia   Bangalore          Kolkata  4443.468160\n",
       "4  AirAsia   Bangalore           Mumbai  3342.385350\n",
       "5  AirAsia     Chennai        Bangalore  1914.760870\n",
       "6  AirAsia     Chennai            Delhi  3697.314003\n",
       "7  AirAsia     Chennai        Hyderabad  2053.182540\n",
       "8  AirAsia     Chennai          Kolkata  3682.338762\n",
       "9  AirAsia     Chennai           Mumbai  2691.100000"
      ]
     },
     "execution_count": 18,
     "metadata": {},
     "output_type": "execute_result"
    }
   ],
   "source": [
    "flight_df.groupby(['airline', 'source_city', 'destination_city'], as_index=False)['price'].mean().head(10)"
   ]
  },
  {
   "cell_type": "code",
   "execution_count": 19,
   "id": "c5c41e36-bd88-42c7-a4fe-728123018941",
   "metadata": {},
   "outputs": [],
   "source": [
    "# Creating a backup file\n",
    "flight_bk = flight_df.copy()"
   ]
  },
  {
   "cell_type": "code",
   "execution_count": 20,
   "id": "7089bf8a-76c5-4c9e-a777-b4cdf878b30b",
   "metadata": {},
   "outputs": [],
   "source": [
    "# Converting the labels into a numeric from using label Encoder\n",
    "from sklearn.preprocessing import LabelEncoder\n",
    "le = LabelEncoder()\n",
    "for col in flight_df.columns:\n",
    "    if flight_df[col].dtype == 'object':\n",
    "        flight_df[col]=le.fit_transform(flight_df[col])"
   ]
  },
  {
   "cell_type": "code",
   "execution_count": 21,
   "id": "5fb78918-3b17-4ace-b5b7-968c151d82ec",
   "metadata": {},
   "outputs": [],
   "source": [
    "# Storing the dependent variables in X and Independent variable in y\n",
    "X = flight_df.drop('price', axis=1)\n",
    "y = flight_df['price']"
   ]
  },
  {
   "cell_type": "code",
   "execution_count": 22,
   "id": "76c18eba-505f-4107-b7ad-318c3297d201",
   "metadata": {},
   "outputs": [
    {
     "data": {
      "text/plain": [
       "((210107, 10), (90046, 10), (210107,), (90046,))"
      ]
     },
     "execution_count": 22,
     "metadata": {},
     "output_type": "execute_result"
    }
   ],
   "source": [
    "# Splitting the data into training set and testing set\n",
    "from sklearn.model_selection import train_test_split\n",
    "X_train, X_test, y_train, y_test = train_test_split(X, y, \n",
    "                                                    test_size=0.30, \n",
    "                                                    random_state=42)\n",
    "X_train.shape, X_test.shape, y_train.shape, y_test.shape"
   ]
  },
  {
   "cell_type": "code",
   "execution_count": 23,
   "id": "de6bd2e4-e3ff-4182-b5c0-07be830dfb3c",
   "metadata": {},
   "outputs": [],
   "source": [
    "# Scaling the values to convert the int values to Machine Learning\n",
    "from sklearn.preprocessing import MinMaxScaler\n",
    "mmscaler = MinMaxScaler(feature_range=(0, 1))\n",
    "X_train = mmscaler.fit_transform(X_train)\n",
    "X_test = mmscaler.fit_transform(X_test)\n",
    "X_train = pd.DataFrame(X_train)\n",
    "X_test = pd.DataFrame(X_test)"
   ]
  },
  {
   "cell_type": "code",
   "execution_count": 24,
   "id": "a33840d5-89a2-47b8-9ad0-b3c85073e2b5",
   "metadata": {},
   "outputs": [
    {
     "data": {
      "text/html": [
       "<div>\n",
       "<style scoped>\n",
       "    .dataframe tbody tr th:only-of-type {\n",
       "        vertical-align: middle;\n",
       "    }\n",
       "\n",
       "    .dataframe tbody tr th {\n",
       "        vertical-align: top;\n",
       "    }\n",
       "\n",
       "    .dataframe thead th {\n",
       "        text-align: right;\n",
       "    }\n",
       "</style>\n",
       "<table border=\"1\" class=\"dataframe\">\n",
       "  <thead>\n",
       "    <tr style=\"text-align: right;\">\n",
       "      <th></th>\n",
       "      <th>Model Name</th>\n",
       "      <th>Mean_Absolute_Error_MAE</th>\n",
       "      <th>Adj_R_Square</th>\n",
       "      <th>Root_Mean_Squared_Error_RMSE</th>\n",
       "      <th>Mean_Absolute_Precentage_Error_MAPE</th>\n",
       "      <th>Mean_Squared_Error_MSE</th>\n",
       "      <th>Root_Mean_Squared_Log_Error_RMSLE</th>\n",
       "      <th>R2_score</th>\n",
       "    </tr>\n",
       "  </thead>\n",
       "  <tbody>\n",
       "  </tbody>\n",
       "</table>\n",
       "</div>"
      ],
      "text/plain": [
       "Empty DataFrame\n",
       "Columns: [Model Name, Mean_Absolute_Error_MAE, Adj_R_Square, Root_Mean_Squared_Error_RMSE, Mean_Absolute_Precentage_Error_MAPE, Mean_Squared_Error_MSE, Root_Mean_Squared_Log_Error_RMSLE, R2_score]\n",
       "Index: []"
      ]
     },
     "execution_count": 24,
     "metadata": {},
     "output_type": "execute_result"
    }
   ],
   "source": [
    "a = {\n",
    "    'Model Name':[],\n",
    "    'Mean_Absolute_Error_MAE':[],\n",
    "    'Adj_R_Square':[],\n",
    "    'Root_Mean_Squared_Error_RMSE':[],\n",
    "    'Mean_Absolute_Precentage_Error_MAPE':[],\n",
    "    'Mean_Squared_Error_MSE':[],\n",
    "    'Root_Mean_Squared_Log_Error_RMSLE':[],\n",
    "    'R2_score':[]\n",
    "}\n",
    "results=pd.DataFrame(a)\n",
    "results.head()"
   ]
  },
  {
   "cell_type": "code",
   "execution_count": 25,
   "id": "376ce275-5f29-465e-b314-2e0244a0479f",
   "metadata": {},
   "outputs": [],
   "source": [
    "# Build the Regression / Regressor models\n",
    "from sklearn.linear_model import LinearRegression\n",
    "from sklearn.linear_model import Ridge\n",
    "from sklearn import linear_model\n",
    "from sklearn.tree import DecisionTreeRegressor\n",
    "from sklearn.ensemble import RandomForestRegressor\n",
    "from sklearn.svm import SVR\n",
    "# import xgboost as xgb\n",
    "from sklearn.neighbors import KNeighborsRegressor\n",
    "from sklearn.ensemble import ExtraTreesRegressor\n",
    "from sklearn.ensemble import BaggingRegressor\n",
    "from sklearn.ensemble import GradientBoostingRegressor"
   ]
  },
  {
   "cell_type": "code",
   "execution_count": 26,
   "id": "88814131-0f22-4576-a503-a4e04ebed14a",
   "metadata": {},
   "outputs": [],
   "source": [
    "# Create objects of regression / regressor model with default hyper-parameters\n",
    "model_lr = LinearRegression()\n",
    "model_dcr = DecisionTreeRegressor()\n",
    "model_bag = BaggingRegressor()\n",
    "model_RFC = RandomForestRegressor()\n",
    "model_SVR = SVR()\n",
    "model_KNN = KNeighborsRegressor(n_neighbors=5)\n",
    "model_ETR = ExtraTreesRegressor()\n",
    "model_RE = Ridge()\n",
    "model_LO = linear_model.Lasso(alpha=0.1)\n",
    "\n",
    "model_GBR = GradientBoostingRegressor(loss='ls',\n",
    "                                      learning_rate=0.1,\n",
    "                                      n_estimators=100, \n",
    "                                      subsample=1.0,  \n",
    "                                      criterion='friedman_mse',\n",
    "                                      min_samples_split=2, min_samples_leaf=1,\n",
    "                                      min_weight_fraction_leaf=0.0, max_depth=3,\n",
    "                                      min_impurity_decrease=0.0, init=None, random_state=None,\n",
    "                                      max_features=None, alpha=0.9, verbose=0,\n",
    "                                      max_leaf_nodes=None, warm_start=False, \n",
    "                                      validation_fraction=0.1, n_iter_no_change=None, \n",
    "                                      tol=0.0001, ccp_alpha=0.0)\n",
    "                        \n",
    "\n"
   ]
  },
  {
   "cell_type": "code",
   "execution_count": null,
   "id": "c136df16-9d03-4253-80dc-8ba429e8d483",
   "metadata": {},
   "outputs": [
    {
     "name": "stdout",
     "output_type": "stream",
     "text": [
      "Model Name:  LinearRegression()\n",
      "Mean Absolute Error (MAE):  4630.296\n",
      "Mean Squared Error (MSE):  49070241.265\n",
      "Root Mean Squared Error (RMSE):  7005.015\n",
      "R2_score:  0.904656\n",
      "Root Mean Squared Log Error (RMSLE):  2.181\n",
      "Mean Absolute Percentage Error (MAPE): 43.89 %\n",
      "Adj R Score:  0.904653\n",
      "------------------------------------------------------------------------------------------------------------------------------------------\n",
      "Model Name:  DecisionTreeRegressor()\n",
      "Mean Absolute Error (MAE):  1264.007\n",
      "Mean Squared Error (MSE):  13891245.471\n",
      "Root Mean Squared Error (RMSE):  3727.096\n",
      "R2_score:  0.973009\n",
      "Root Mean Squared Log Error (RMSLE):  2.107\n",
      "Mean Absolute Percentage Error (MAPE): 8.64 %\n",
      "Adj R Score:  0.973008\n",
      "------------------------------------------------------------------------------------------------------------------------------------------\n",
      "Model Name:  BaggingRegressor()\n",
      "Mean Absolute Error (MAE):  1220.651\n",
      "Mean Squared Error (MSE):  9079757.489\n",
      "Root Mean Squared Error (RMSE):  3013.264\n",
      "R2_score:  0.982358\n",
      "Root Mean Squared Log Error (RMSLE):  2.081\n",
      "Mean Absolute Percentage Error (MAPE): 8.3 %\n",
      "Adj R Score:  0.982357\n",
      "------------------------------------------------------------------------------------------------------------------------------------------\n",
      "Model Name:  RandomForestRegressor()\n",
      "Mean Absolute Error (MAE):  1173.765\n",
      "Mean Squared Error (MSE):  8262366.941\n",
      "Root Mean Squared Error (RMSE):  2874.433\n",
      "R2_score:  0.983946\n",
      "Root Mean Squared Log Error (RMSLE):  2.075\n",
      "Mean Absolute Percentage Error (MAPE): 7.95 %\n",
      "Adj R Score:  0.983945\n",
      "------------------------------------------------------------------------------------------------------------------------------------------\n"
     ]
    }
   ],
   "source": [
    "# Evalution matrix for all the algorthms\n",
    "MODELS = [model_lr, model_dcr, model_bag, model_RFC, model_SVR, model_KNN, model_ETR, model_RE, model_LO, model_GBR]\n",
    "\n",
    "for model in MODELS:\n",
    "    # Fit the model with train data\n",
    "    model.fit(X_train, y_train)\n",
    "\n",
    "    # Predict the model with test data\n",
    "    y_pred = model.predict(X_test)\n",
    "    # Print the model name\n",
    "    print(\"Model Name: \", model)\n",
    "\n",
    "    # Evaluation metrics for Regression analysis\n",
    "\n",
    "    from sklearn import metrics\n",
    "    \n",
    "    print('Mean Absolute Error (MAE): ', round(metrics.mean_absolute_error(y_test, y_pred), 3))\n",
    "    print('Mean Squared Error (MSE): ', round(metrics.mean_squared_error(y_test, y_pred), 3))\n",
    "    print('Root Mean Squared Error (RMSE): ', round(np.sqrt(metrics.mean_squared_error(y_test, y_pred)), 3))\n",
    "    print ('R2_score: ', round(metrics.r2_score(y_test, y_pred), 6))\n",
    "    print ('Root Mean Squared Log Error (RMSLE): ', round(np.log(np.log(np.sqrt(metrics.mean_squared_error(y_test, y_pred)))), 3))\n",
    "\n",
    "    # DEfine the function to calculate the MAPE - Mean Absolute Percentage Error\n",
    "\n",
    "    def MAPE(y_test, y_pred):\n",
    "        y_test, y_pred = np.array(y_test), np.array(y_pred)\n",
    "        return np.mean(np.abs((y_test - y_pred) / y_test)) * 100\n",
    "\n",
    "    # Evaluation of MAPE\n",
    "    result = MAPE(y_test, y_pred)\n",
    "    print('Mean Absolute Percentage Error (MAPE):', round(result, 2), '%')\n",
    "\n",
    "    # Calculate Adjusted R core values\n",
    "    r_score = round(metrics.r2_score(y_test, y_pred), 6)\n",
    "    adjusted_r_score = round(1 - (1 - r_score)*(len(y)-1)/(len(y)-X.shape[1]-1), 6)\n",
    "    print('Adj R Score: ', adjusted_r_score)\n",
    "    print('------------------------------------------------------------------------------------------------------------------------------------------')\n",
    "\n",
    "    # -----------------------------------------------------------------------------------------\n",
    "    new_row = {\n",
    "        'Model Name' : model,\n",
    "        'Mean_Absolute_Error_MAE' : metrics.mean_absolute_error(y_test, y_pred),\n",
    "        'Adj_R_Score' : adjusted_r_score,\n",
    "        'Root_Mean_Squared_Error_RMSE' : np.sqrt(metrics.mean_squared_error(y_test, y_pred)),\n",
    "        'Mean_Absolute_Percentage_Error_MAPE' : result,\n",
    "        'Mean_Squared_Error_MSE' : metrics.mean_squared_error(y_test, y_pred),\n",
    "        'Root_Mean_Squared_Log_Error_RMSLE' : np.log(np.sqrt(metrics.mean_squared_error(y_test, y_pred))),\n",
    "        'R2_score' : metrics.r2_score(y_test, y_pred)\n",
    "    }\n",
    "\n",
    "    results = pd.concat([results, pd.DataFrame([new_row])], ignore_index=True)\n",
    "    #------------------------------------------------------------------------------------------------  "
   ]
  },
  {
   "cell_type": "code",
   "execution_count": null,
   "id": "c5490ba3-57eb-480c-83c1-71fd50d03521",
   "metadata": {},
   "outputs": [],
   "source": []
  }
 ],
 "metadata": {
  "kernelspec": {
   "display_name": "Python 3 (ipykernel)",
   "language": "python",
   "name": "python3"
  },
  "language_info": {
   "codemirror_mode": {
    "name": "ipython",
    "version": 3
   },
   "file_extension": ".py",
   "mimetype": "text/x-python",
   "name": "python",
   "nbconvert_exporter": "python",
   "pygments_lexer": "ipython3",
   "version": "3.12.2"
  }
 },
 "nbformat": 4,
 "nbformat_minor": 5
}
